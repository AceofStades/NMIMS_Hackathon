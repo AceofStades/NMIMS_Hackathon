{
 "cells": [
  {
   "cell_type": "code",
   "execution_count": 1,
   "metadata": {
    "colab": {
     "base_uri": "https://localhost:8080/"
    },
    "id": "wi63MLw-gBA1",
    "outputId": "9615264c-5fda-404d-8c2f-4aaf000d1380"
   },
   "outputs": [
    {
     "name": "stdout",
     "output_type": "stream",
     "text": [
      "Requirement already satisfied: pandas in /home/cyclops/Documents/nmims hackathon/env/lib/python3.11/site-packages (2.1.4)\n",
      "Requirement already satisfied: numpy<2,>=1.23.2 in /home/cyclops/Documents/nmims hackathon/env/lib/python3.11/site-packages (from pandas) (1.26.3)\n",
      "Requirement already satisfied: python-dateutil>=2.8.2 in /home/cyclops/Documents/nmims hackathon/env/lib/python3.11/site-packages (from pandas) (2.8.2)\n",
      "Requirement already satisfied: pytz>=2020.1 in /home/cyclops/Documents/nmims hackathon/env/lib/python3.11/site-packages (from pandas) (2023.3.post1)\n",
      "Requirement already satisfied: tzdata>=2022.1 in /home/cyclops/Documents/nmims hackathon/env/lib/python3.11/site-packages (from pandas) (2023.4)\n",
      "Requirement already satisfied: six>=1.5 in /home/cyclops/Documents/nmims hackathon/env/lib/python3.11/site-packages (from python-dateutil>=2.8.2->pandas) (1.13.0)\n",
      "\n",
      "\u001b[1m[\u001b[0m\u001b[34;49mnotice\u001b[0m\u001b[1;39;49m]\u001b[0m\u001b[39;49m A new release of pip is available: \u001b[0m\u001b[31;49m23.2.1\u001b[0m\u001b[39;49m -> \u001b[0m\u001b[32;49m23.3.2\u001b[0m\n",
      "\u001b[1m[\u001b[0m\u001b[34;49mnotice\u001b[0m\u001b[1;39;49m]\u001b[0m\u001b[39;49m To update, run: \u001b[0m\u001b[32;49mpip install --upgrade pip\u001b[0m\n",
      "Note: you may need to restart the kernel to use updated packages.\n",
      "Requirement already satisfied: seaborn in /home/cyclops/Documents/nmims hackathon/env/lib/python3.11/site-packages (0.13.1)\n",
      "Requirement already satisfied: numpy!=1.24.0,>=1.20 in /home/cyclops/Documents/nmims hackathon/env/lib/python3.11/site-packages (from seaborn) (1.26.3)\n",
      "Requirement already satisfied: pandas>=1.2 in /home/cyclops/Documents/nmims hackathon/env/lib/python3.11/site-packages (from seaborn) (2.1.4)\n",
      "Requirement already satisfied: matplotlib!=3.6.1,>=3.4 in /home/cyclops/Documents/nmims hackathon/env/lib/python3.11/site-packages (from seaborn) (3.8.2)\n",
      "Requirement already satisfied: contourpy>=1.0.1 in /home/cyclops/Documents/nmims hackathon/env/lib/python3.11/site-packages (from matplotlib!=3.6.1,>=3.4->seaborn) (1.2.0)\n",
      "Requirement already satisfied: cycler>=0.10 in /home/cyclops/Documents/nmims hackathon/env/lib/python3.11/site-packages (from matplotlib!=3.6.1,>=3.4->seaborn) (0.12.1)\n",
      "Requirement already satisfied: fonttools>=4.22.0 in /home/cyclops/Documents/nmims hackathon/env/lib/python3.11/site-packages (from matplotlib!=3.6.1,>=3.4->seaborn) (4.47.2)\n",
      "Requirement already satisfied: kiwisolver>=1.3.1 in /home/cyclops/Documents/nmims hackathon/env/lib/python3.11/site-packages (from matplotlib!=3.6.1,>=3.4->seaborn) (1.4.5)\n",
      "Requirement already satisfied: packaging>=20.0 in /home/cyclops/Documents/nmims hackathon/env/lib/python3.11/site-packages (from matplotlib!=3.6.1,>=3.4->seaborn) (23.2)\n",
      "Requirement already satisfied: pillow>=8 in /home/cyclops/Documents/nmims hackathon/env/lib/python3.11/site-packages (from matplotlib!=3.6.1,>=3.4->seaborn) (10.2.0)\n",
      "Requirement already satisfied: pyparsing>=2.3.1 in /home/cyclops/Documents/nmims hackathon/env/lib/python3.11/site-packages (from matplotlib!=3.6.1,>=3.4->seaborn) (3.1.1)\n",
      "Requirement already satisfied: python-dateutil>=2.7 in /home/cyclops/Documents/nmims hackathon/env/lib/python3.11/site-packages (from matplotlib!=3.6.1,>=3.4->seaborn) (2.8.2)\n",
      "Requirement already satisfied: pytz>=2020.1 in /home/cyclops/Documents/nmims hackathon/env/lib/python3.11/site-packages (from pandas>=1.2->seaborn) (2023.3.post1)\n",
      "Requirement already satisfied: tzdata>=2022.1 in /home/cyclops/Documents/nmims hackathon/env/lib/python3.11/site-packages (from pandas>=1.2->seaborn) (2023.4)\n",
      "Requirement already satisfied: six>=1.5 in /home/cyclops/Documents/nmims hackathon/env/lib/python3.11/site-packages (from python-dateutil>=2.7->matplotlib!=3.6.1,>=3.4->seaborn) (1.13.0)\n",
      "\n",
      "\u001b[1m[\u001b[0m\u001b[34;49mnotice\u001b[0m\u001b[1;39;49m]\u001b[0m\u001b[39;49m A new release of pip is available: \u001b[0m\u001b[31;49m23.2.1\u001b[0m\u001b[39;49m -> \u001b[0m\u001b[32;49m23.3.2\u001b[0m\n",
      "\u001b[1m[\u001b[0m\u001b[34;49mnotice\u001b[0m\u001b[1;39;49m]\u001b[0m\u001b[39;49m To update, run: \u001b[0m\u001b[32;49mpip install --upgrade pip\u001b[0m\n",
      "Note: you may need to restart the kernel to use updated packages.\n",
      "Requirement already satisfied: numpy in /home/cyclops/Documents/nmims hackathon/env/lib/python3.11/site-packages (1.26.3)\n",
      "\n",
      "\u001b[1m[\u001b[0m\u001b[34;49mnotice\u001b[0m\u001b[1;39;49m]\u001b[0m\u001b[39;49m A new release of pip is available: \u001b[0m\u001b[31;49m23.2.1\u001b[0m\u001b[39;49m -> \u001b[0m\u001b[32;49m23.3.2\u001b[0m\n",
      "\u001b[1m[\u001b[0m\u001b[34;49mnotice\u001b[0m\u001b[1;39;49m]\u001b[0m\u001b[39;49m To update, run: \u001b[0m\u001b[32;49mpip install --upgrade pip\u001b[0m\n",
      "Note: you may need to restart the kernel to use updated packages.\n",
      "Requirement already satisfied: matplotlib in /home/cyclops/Documents/nmims hackathon/env/lib/python3.11/site-packages (3.8.2)\n",
      "Requirement already satisfied: contourpy>=1.0.1 in /home/cyclops/Documents/nmims hackathon/env/lib/python3.11/site-packages (from matplotlib) (1.2.0)\n",
      "Requirement already satisfied: cycler>=0.10 in /home/cyclops/Documents/nmims hackathon/env/lib/python3.11/site-packages (from matplotlib) (0.12.1)\n",
      "Requirement already satisfied: fonttools>=4.22.0 in /home/cyclops/Documents/nmims hackathon/env/lib/python3.11/site-packages (from matplotlib) (4.47.2)\n",
      "Requirement already satisfied: kiwisolver>=1.3.1 in /home/cyclops/Documents/nmims hackathon/env/lib/python3.11/site-packages (from matplotlib) (1.4.5)\n",
      "Requirement already satisfied: numpy<2,>=1.21 in /home/cyclops/Documents/nmims hackathon/env/lib/python3.11/site-packages (from matplotlib) (1.26.3)\n",
      "Requirement already satisfied: packaging>=20.0 in /home/cyclops/Documents/nmims hackathon/env/lib/python3.11/site-packages (from matplotlib) (23.2)\n",
      "Requirement already satisfied: pillow>=8 in /home/cyclops/Documents/nmims hackathon/env/lib/python3.11/site-packages (from matplotlib) (10.2.0)\n",
      "Requirement already satisfied: pyparsing>=2.3.1 in /home/cyclops/Documents/nmims hackathon/env/lib/python3.11/site-packages (from matplotlib) (3.1.1)\n",
      "Requirement already satisfied: python-dateutil>=2.7 in /home/cyclops/Documents/nmims hackathon/env/lib/python3.11/site-packages (from matplotlib) (2.8.2)\n",
      "Requirement already satisfied: six>=1.5 in /home/cyclops/Documents/nmims hackathon/env/lib/python3.11/site-packages (from python-dateutil>=2.7->matplotlib) (1.13.0)\n",
      "\n",
      "\u001b[1m[\u001b[0m\u001b[34;49mnotice\u001b[0m\u001b[1;39;49m]\u001b[0m\u001b[39;49m A new release of pip is available: \u001b[0m\u001b[31;49m23.2.1\u001b[0m\u001b[39;49m -> \u001b[0m\u001b[32;49m23.3.2\u001b[0m\n",
      "\u001b[1m[\u001b[0m\u001b[34;49mnotice\u001b[0m\u001b[1;39;49m]\u001b[0m\u001b[39;49m To update, run: \u001b[0m\u001b[32;49mpip install --upgrade pip\u001b[0m\n",
      "Note: you may need to restart the kernel to use updated packages.\n",
      "Requirement already satisfied: Scikit-learn in /home/cyclops/Documents/nmims hackathon/env/lib/python3.11/site-packages (1.3.2)\n",
      "Requirement already satisfied: numpy<2.0,>=1.17.3 in /home/cyclops/Documents/nmims hackathon/env/lib/python3.11/site-packages (from Scikit-learn) (1.26.3)\n",
      "Requirement already satisfied: scipy>=1.5.0 in /home/cyclops/Documents/nmims hackathon/env/lib/python3.11/site-packages (from Scikit-learn) (1.11.4)\n",
      "Requirement already satisfied: joblib>=1.1.1 in /home/cyclops/Documents/nmims hackathon/env/lib/python3.11/site-packages (from Scikit-learn) (1.3.2)\n",
      "Requirement already satisfied: threadpoolctl>=2.0.0 in /home/cyclops/Documents/nmims hackathon/env/lib/python3.11/site-packages (from Scikit-learn) (3.2.0)\n",
      "\n",
      "\u001b[1m[\u001b[0m\u001b[34;49mnotice\u001b[0m\u001b[1;39;49m]\u001b[0m\u001b[39;49m A new release of pip is available: \u001b[0m\u001b[31;49m23.2.1\u001b[0m\u001b[39;49m -> \u001b[0m\u001b[32;49m23.3.2\u001b[0m\n",
      "\u001b[1m[\u001b[0m\u001b[34;49mnotice\u001b[0m\u001b[1;39;49m]\u001b[0m\u001b[39;49m To update, run: \u001b[0m\u001b[32;49mpip install --upgrade pip\u001b[0m\n",
      "Note: you may need to restart the kernel to use updated packages.\n"
     ]
    }
   ],
   "source": [
    "%pip install pandas \n",
    "%pip install seaborn\n",
    "%pip install numpy\n",
    "%pip install matplotlib \n",
    "%pip install Scikit-learn "
   ]
  },
  {
   "cell_type": "code",
   "execution_count": 70,
   "metadata": {
    "id": "m7OkU77sjinf"
   },
   "outputs": [],
   "source": [
    "import pandas as pd\n",
    "import seaborn as sns\n",
    "import numpy as np\n",
    "import matplotlib.pyplot as plt\n",
    "import sklearn"
   ]
  },
  {
   "cell_type": "code",
   "execution_count": 71,
   "metadata": {},
   "outputs": [],
   "source": [
    "import pandas as pd\n",
    "\n",
    "sales_file_path = '/home/cyclops/Documents/nmims hackathon/DL network/sales.csv'\n",
    "stock_file_path = '/home/cyclops/Documents/nmims hackathon/DL network/stock_levels_by_sensors.csv'\n",
    "temp_file_path = '/home/cyclops/Documents/nmims hackathon/DL network/storage_temps_by_sensors.csv'\n",
    "\n",
    "sales_df = pd.read_csv(sales_file_path)\n",
    "stock_df = pd.read_csv(stock_file_path)\n",
    "temp_df = pd.read_csv(temp_file_path)\n"
   ]
  },
  {
   "cell_type": "code",
   "execution_count": 72,
   "metadata": {},
   "outputs": [
    {
     "data": {
      "text/html": [
       "<div>\n",
       "<style scoped>\n",
       "    .dataframe tbody tr th:only-of-type {\n",
       "        vertical-align: middle;\n",
       "    }\n",
       "\n",
       "    .dataframe tbody tr th {\n",
       "        vertical-align: top;\n",
       "    }\n",
       "\n",
       "    .dataframe thead th {\n",
       "        text-align: right;\n",
       "    }\n",
       "</style>\n",
       "<table border=\"1\" class=\"dataframe\">\n",
       "  <thead>\n",
       "    <tr style=\"text-align: right;\">\n",
       "      <th></th>\n",
       "      <th>Unnamed: 0</th>\n",
       "      <th>transaction_id</th>\n",
       "      <th>product_id</th>\n",
       "      <th>category</th>\n",
       "      <th>unit_price</th>\n",
       "      <th>quantity</th>\n",
       "      <th>total</th>\n",
       "      <th>timestamp</th>\n",
       "    </tr>\n",
       "  </thead>\n",
       "  <tbody>\n",
       "    <tr>\n",
       "      <th>0</th>\n",
       "      <td>0</td>\n",
       "      <td>fbe2f35d-29fe-4a51-95fa-8a37563467b6</td>\n",
       "      <td>c95b1e52-c0ad-44ac-b569-328732b3c284</td>\n",
       "      <td>fruit</td>\n",
       "      <td>2.94</td>\n",
       "      <td>4</td>\n",
       "      <td>11.76</td>\n",
       "      <td>2012-11-30 14:06:28</td>\n",
       "    </tr>\n",
       "    <tr>\n",
       "      <th>1</th>\n",
       "      <td>1</td>\n",
       "      <td>0aace3a4-7f59-4c3c-add5-348f02ecbb7a</td>\n",
       "      <td>9e81ff91-4a02-4739-aac0-0fb3065026d6</td>\n",
       "      <td>fruit</td>\n",
       "      <td>1.97</td>\n",
       "      <td>2</td>\n",
       "      <td>3.94</td>\n",
       "      <td>2015-08-20 05:52:40</td>\n",
       "    </tr>\n",
       "    <tr>\n",
       "      <th>2</th>\n",
       "      <td>2</td>\n",
       "      <td>ec19d65c-2a62-4de9-942d-624ab4cfe999</td>\n",
       "      <td>1ffed4ab-c2e2-43aa-8f11-ec763e4e7249</td>\n",
       "      <td>fruit</td>\n",
       "      <td>2.93</td>\n",
       "      <td>5</td>\n",
       "      <td>14.65</td>\n",
       "      <td>2010-12-16 16:38:33</td>\n",
       "    </tr>\n",
       "    <tr>\n",
       "      <th>3</th>\n",
       "      <td>3</td>\n",
       "      <td>aa3aadc9-c3d0-45f4-9835-2bec0477b701</td>\n",
       "      <td>fc49c2d5-7150-49e4-beee-20ec2cd577ed</td>\n",
       "      <td>fruit</td>\n",
       "      <td>1.48</td>\n",
       "      <td>1</td>\n",
       "      <td>1.48</td>\n",
       "      <td>2012-05-19 12:24:24</td>\n",
       "    </tr>\n",
       "    <tr>\n",
       "      <th>4</th>\n",
       "      <td>4</td>\n",
       "      <td>7183edba-8336-4eb0-a44e-b63b00fcd1ee</td>\n",
       "      <td>954bcb8c-62b7-4ad6-8fc3-a80b1858c3f0</td>\n",
       "      <td>fruit</td>\n",
       "      <td>2.74</td>\n",
       "      <td>2</td>\n",
       "      <td>5.48</td>\n",
       "      <td>2015-02-25 02:51:25</td>\n",
       "    </tr>\n",
       "  </tbody>\n",
       "</table>\n",
       "</div>"
      ],
      "text/plain": [
       "   Unnamed: 0                        transaction_id  \\\n",
       "0           0  fbe2f35d-29fe-4a51-95fa-8a37563467b6   \n",
       "1           1  0aace3a4-7f59-4c3c-add5-348f02ecbb7a   \n",
       "2           2  ec19d65c-2a62-4de9-942d-624ab4cfe999   \n",
       "3           3  aa3aadc9-c3d0-45f4-9835-2bec0477b701   \n",
       "4           4  7183edba-8336-4eb0-a44e-b63b00fcd1ee   \n",
       "\n",
       "                             product_id category  unit_price  quantity  total  \\\n",
       "0  c95b1e52-c0ad-44ac-b569-328732b3c284    fruit        2.94         4  11.76   \n",
       "1  9e81ff91-4a02-4739-aac0-0fb3065026d6    fruit        1.97         2   3.94   \n",
       "2  1ffed4ab-c2e2-43aa-8f11-ec763e4e7249    fruit        2.93         5  14.65   \n",
       "3  fc49c2d5-7150-49e4-beee-20ec2cd577ed    fruit        1.48         1   1.48   \n",
       "4  954bcb8c-62b7-4ad6-8fc3-a80b1858c3f0    fruit        2.74         2   5.48   \n",
       "\n",
       "             timestamp  \n",
       "0  2012-11-30 14:06:28  \n",
       "1  2015-08-20 05:52:40  \n",
       "2  2010-12-16 16:38:33  \n",
       "3  2012-05-19 12:24:24  \n",
       "4  2015-02-25 02:51:25  "
      ]
     },
     "execution_count": 72,
     "metadata": {},
     "output_type": "execute_result"
    }
   ],
   "source": [
    "sales_df.head()"
   ]
  },
  {
   "cell_type": "code",
   "execution_count": 73,
   "metadata": {
    "colab": {
     "base_uri": "https://localhost:8080/"
    },
    "id": "zbb-lQosmPcr",
    "outputId": "7dafe934-51ba-4060-e5be-dc3dfc9d2df9"
   },
   "outputs": [
    {
     "name": "stdout",
     "output_type": "stream",
     "text": [
      "Unnamed: 0        0\n",
      "transaction_id    0\n",
      "product_id        0\n",
      "category          0\n",
      "unit_price        0\n",
      "quantity          0\n",
      "total             0\n",
      "timestamp         0\n",
      "dtype: int64\n"
     ]
    }
   ],
   "source": [
    "null_values = sales_df.isnull().sum()\n",
    "print(null_values)"
   ]
  },
  {
   "cell_type": "code",
   "execution_count": 74,
   "metadata": {
    "colab": {
     "base_uri": "https://localhost:8080/"
    },
    "id": "f4RcQgWynDV1",
    "outputId": "fbec2817-74e2-4ade-af7b-fb4521259aad"
   },
   "outputs": [
    {
     "name": "stdout",
     "output_type": "stream",
     "text": [
      "<class 'pandas.core.frame.DataFrame'>\n",
      "RangeIndex: 7829 entries, 0 to 7828\n",
      "Data columns (total 8 columns):\n",
      " #   Column          Non-Null Count  Dtype  \n",
      "---  ------          --------------  -----  \n",
      " 0   Unnamed: 0      7829 non-null   int64  \n",
      " 1   transaction_id  7829 non-null   object \n",
      " 2   product_id      7829 non-null   object \n",
      " 3   category        7829 non-null   object \n",
      " 4   unit_price      7829 non-null   float64\n",
      " 5   quantity        7829 non-null   int64  \n",
      " 6   total           7829 non-null   float64\n",
      " 7   timestamp       7829 non-null   object \n",
      "dtypes: float64(2), int64(2), object(4)\n",
      "memory usage: 489.4+ KB\n"
     ]
    }
   ],
   "source": [
    "sales_df.info()"
   ]
  },
  {
   "cell_type": "code",
   "execution_count": 75,
   "metadata": {
    "id": "pq_a4ldYnfyI"
   },
   "outputs": [],
   "source": [
    "sales_df['timestamp'] = pd.to_datetime(sales_df['timestamp'])\n"
   ]
  },
  {
   "cell_type": "code",
   "execution_count": 76,
   "metadata": {
    "colab": {
     "base_uri": "https://localhost:8080/"
    },
    "id": "3fs0YK9knwa1",
    "outputId": "7b912508-f6e4-49ea-a617-a0564e89ba28"
   },
   "outputs": [
    {
     "name": "stdout",
     "output_type": "stream",
     "text": [
      "<class 'pandas.core.frame.DataFrame'>\n",
      "RangeIndex: 7829 entries, 0 to 7828\n",
      "Data columns (total 8 columns):\n",
      " #   Column          Non-Null Count  Dtype         \n",
      "---  ------          --------------  -----         \n",
      " 0   Unnamed: 0      7829 non-null   int64         \n",
      " 1   transaction_id  7829 non-null   object        \n",
      " 2   product_id      7829 non-null   object        \n",
      " 3   category        7829 non-null   object        \n",
      " 4   unit_price      7829 non-null   float64       \n",
      " 5   quantity        7829 non-null   int64         \n",
      " 6   total           7829 non-null   float64       \n",
      " 7   timestamp       7829 non-null   datetime64[ns]\n",
      "dtypes: datetime64[ns](1), float64(2), int64(2), object(3)\n",
      "memory usage: 489.4+ KB\n"
     ]
    }
   ],
   "source": [
    "sales_df.info()"
   ]
  },
  {
   "cell_type": "code",
   "execution_count": 77,
   "metadata": {
    "colab": {
     "base_uri": "https://localhost:8080/"
    },
    "id": "UnT8Sbqo7UN_",
    "outputId": "0bd93d53-3bba-4417-f686-f9eac3f1c2df"
   },
   "outputs": [
    {
     "name": "stdout",
     "output_type": "stream",
     "text": [
      "['fruit' 'vegetables' 'refrigerated items' 'frozen' 'spices and herbs'\n",
      " 'canned foods' 'packaged foods' 'condiments and sauces' 'beverages'\n",
      " 'dairy' 'cheese' 'meat' 'seafood' 'baked goods' 'baking' 'snacks'\n",
      " 'baby products' 'pets' 'personal care' 'medicine' 'kitchen'\n",
      " 'cleaning products']\n"
     ]
    }
   ],
   "source": [
    "category_values = sales_df['category'].unique()\n",
    "print(category_values)\n"
   ]
  },
  {
   "cell_type": "markdown",
   "metadata": {},
   "source": [
    " STOCK checker "
   ]
  },
  {
   "cell_type": "code",
   "execution_count": 78,
   "metadata": {
    "colab": {
     "base_uri": "https://localhost:8080/"
    },
    "id": "qgFR2sifn5nd",
    "outputId": "8ea01fa8-48b9-4437-bdef-2abea0601867"
   },
   "outputs": [
    {
     "name": "stdout",
     "output_type": "stream",
     "text": [
      "<class 'pandas.core.frame.DataFrame'>\n",
      "RangeIndex: 15000 entries, 0 to 14999\n",
      "Data columns (total 5 columns):\n",
      " #   Column               Non-Null Count  Dtype  \n",
      "---  ------               --------------  -----  \n",
      " 0   Unnamed: 0           15000 non-null  int64  \n",
      " 1   product_id           15000 non-null  object \n",
      " 2   estimated_stock_pct  15000 non-null  float64\n",
      " 3   id                   15000 non-null  object \n",
      " 4   timestamp            15000 non-null  object \n",
      "dtypes: float64(1), int64(1), object(3)\n",
      "memory usage: 586.1+ KB\n"
     ]
    }
   ],
   "source": [
    "stock_df.info()"
   ]
  },
  {
   "cell_type": "code",
   "execution_count": 79,
   "metadata": {
    "colab": {
     "base_uri": "https://localhost:8080/"
    },
    "id": "5LxKhtteoKfM",
    "outputId": "d600f440-59c1-488b-ae3d-a97a9fa6000c"
   },
   "outputs": [
    {
     "name": "stdout",
     "output_type": "stream",
     "text": [
      "<class 'pandas.core.frame.DataFrame'>\n",
      "RangeIndex: 15000 entries, 0 to 14999\n",
      "Data columns (total 5 columns):\n",
      " #   Column               Non-Null Count  Dtype         \n",
      "---  ------               --------------  -----         \n",
      " 0   Unnamed: 0           15000 non-null  int64         \n",
      " 1   product_id           15000 non-null  object        \n",
      " 2   estimated_stock_pct  15000 non-null  float64       \n",
      " 3   id                   15000 non-null  object        \n",
      " 4   timestamp            15000 non-null  datetime64[ns]\n",
      "dtypes: datetime64[ns](1), float64(1), int64(1), object(2)\n",
      "memory usage: 586.1+ KB\n"
     ]
    },
    {
     "name": "stderr",
     "output_type": "stream",
     "text": [
      "/tmp/ipykernel_137888/1276371241.py:1: UserWarning: Parsing dates in %d-%m-%Y %H:%M format when dayfirst=False (the default) was specified. Pass `dayfirst=True` or specify a format to silence this warning.\n",
      "  stock_df['timestamp'] = pd.to_datetime(stock_df['timestamp'])\n"
     ]
    }
   ],
   "source": [
    "stock_df['timestamp'] = pd.to_datetime(stock_df['timestamp'])\n",
    "stock_df.info()"
   ]
  },
  {
   "cell_type": "markdown",
   "metadata": {},
   "source": [
    "TEMPERATURE SENSOR "
   ]
  },
  {
   "cell_type": "code",
   "execution_count": 80,
   "metadata": {
    "colab": {
     "base_uri": "https://localhost:8080/"
    },
    "id": "OWQ1ZgUgoVjI",
    "outputId": "5fe114e5-849e-4394-83b9-5a5e36f9faef"
   },
   "outputs": [
    {
     "name": "stdout",
     "output_type": "stream",
     "text": [
      "<class 'pandas.core.frame.DataFrame'>\n",
      "RangeIndex: 23890 entries, 0 to 23889\n",
      "Data columns (total 4 columns):\n",
      " #   Column       Non-Null Count  Dtype  \n",
      "---  ------       --------------  -----  \n",
      " 0   Unnamed: 0   23890 non-null  int64  \n",
      " 1   temperature  23890 non-null  float64\n",
      " 2   id           23890 non-null  object \n",
      " 3   timestamp    23890 non-null  object \n",
      "dtypes: float64(1), int64(1), object(2)\n",
      "memory usage: 746.7+ KB\n"
     ]
    }
   ],
   "source": [
    "temp_df.info()"
   ]
  },
  {
   "cell_type": "code",
   "execution_count": 81,
   "metadata": {
    "colab": {
     "base_uri": "https://localhost:8080/"
    },
    "id": "WDziFjX0oVv5",
    "outputId": "744b4f5e-4400-4e82-9b7a-23c8d15fe4fe"
   },
   "outputs": [
    {
     "name": "stdout",
     "output_type": "stream",
     "text": [
      "<class 'pandas.core.frame.DataFrame'>\n",
      "RangeIndex: 23890 entries, 0 to 23889\n",
      "Data columns (total 4 columns):\n",
      " #   Column       Non-Null Count  Dtype         \n",
      "---  ------       --------------  -----         \n",
      " 0   Unnamed: 0   23890 non-null  int64         \n",
      " 1   temperature  23890 non-null  float64       \n",
      " 2   id           23890 non-null  object        \n",
      " 3   timestamp    23890 non-null  datetime64[ns]\n",
      "dtypes: datetime64[ns](1), float64(1), int64(1), object(1)\n",
      "memory usage: 746.7+ KB\n"
     ]
    },
    {
     "name": "stderr",
     "output_type": "stream",
     "text": [
      "/tmp/ipykernel_137888/1476764517.py:1: UserWarning: Parsing dates in %d-%m-%Y %H:%M format when dayfirst=False (the default) was specified. Pass `dayfirst=True` or specify a format to silence this warning.\n",
      "  temp_df['timestamp'] = pd.to_datetime(temp_df['timestamp'])\n"
     ]
    }
   ],
   "source": [
    "temp_df['timestamp'] = pd.to_datetime(temp_df['timestamp'])\n",
    "temp_df.info()"
   ]
  },
  {
   "cell_type": "code",
   "execution_count": null,
   "metadata": {
    "id": "b3A6vtzbogOl"
   },
   "outputs": [],
   "source": []
  },
  {
   "cell_type": "markdown",
   "metadata": {
    "id": "0hyxbPS0qgtW"
   },
   "source": [
    "## MERGE"
   ]
  },
  {
   "cell_type": "code",
   "execution_count": 82,
   "metadata": {
    "id": "aqVtx-3psdkE"
   },
   "outputs": [
    {
     "data": {
      "text/html": [
       "<div>\n",
       "<style scoped>\n",
       "    .dataframe tbody tr th:only-of-type {\n",
       "        vertical-align: middle;\n",
       "    }\n",
       "\n",
       "    .dataframe tbody tr th {\n",
       "        vertical-align: top;\n",
       "    }\n",
       "\n",
       "    .dataframe thead th {\n",
       "        text-align: right;\n",
       "    }\n",
       "</style>\n",
       "<table border=\"1\" class=\"dataframe\">\n",
       "  <thead>\n",
       "    <tr style=\"text-align: right;\">\n",
       "      <th></th>\n",
       "      <th>Unnamed: 0</th>\n",
       "      <th>transaction_id</th>\n",
       "      <th>product_id</th>\n",
       "      <th>category</th>\n",
       "      <th>unit_price</th>\n",
       "      <th>quantity</th>\n",
       "      <th>total</th>\n",
       "      <th>timestamp</th>\n",
       "    </tr>\n",
       "  </thead>\n",
       "  <tbody>\n",
       "    <tr>\n",
       "      <th>0</th>\n",
       "      <td>0</td>\n",
       "      <td>fbe2f35d-29fe-4a51-95fa-8a37563467b6</td>\n",
       "      <td>c95b1e52-c0ad-44ac-b569-328732b3c284</td>\n",
       "      <td>fruit</td>\n",
       "      <td>2.94</td>\n",
       "      <td>4</td>\n",
       "      <td>11.76</td>\n",
       "      <td>2012-11-30 14:00:00</td>\n",
       "    </tr>\n",
       "    <tr>\n",
       "      <th>1</th>\n",
       "      <td>1</td>\n",
       "      <td>0aace3a4-7f59-4c3c-add5-348f02ecbb7a</td>\n",
       "      <td>9e81ff91-4a02-4739-aac0-0fb3065026d6</td>\n",
       "      <td>fruit</td>\n",
       "      <td>1.97</td>\n",
       "      <td>2</td>\n",
       "      <td>3.94</td>\n",
       "      <td>2015-08-20 05:00:00</td>\n",
       "    </tr>\n",
       "    <tr>\n",
       "      <th>2</th>\n",
       "      <td>2</td>\n",
       "      <td>ec19d65c-2a62-4de9-942d-624ab4cfe999</td>\n",
       "      <td>1ffed4ab-c2e2-43aa-8f11-ec763e4e7249</td>\n",
       "      <td>fruit</td>\n",
       "      <td>2.93</td>\n",
       "      <td>5</td>\n",
       "      <td>14.65</td>\n",
       "      <td>2010-12-16 16:00:00</td>\n",
       "    </tr>\n",
       "    <tr>\n",
       "      <th>3</th>\n",
       "      <td>3</td>\n",
       "      <td>aa3aadc9-c3d0-45f4-9835-2bec0477b701</td>\n",
       "      <td>fc49c2d5-7150-49e4-beee-20ec2cd577ed</td>\n",
       "      <td>fruit</td>\n",
       "      <td>1.48</td>\n",
       "      <td>1</td>\n",
       "      <td>1.48</td>\n",
       "      <td>2012-05-19 12:00:00</td>\n",
       "    </tr>\n",
       "    <tr>\n",
       "      <th>4</th>\n",
       "      <td>4</td>\n",
       "      <td>7183edba-8336-4eb0-a44e-b63b00fcd1ee</td>\n",
       "      <td>954bcb8c-62b7-4ad6-8fc3-a80b1858c3f0</td>\n",
       "      <td>fruit</td>\n",
       "      <td>2.74</td>\n",
       "      <td>2</td>\n",
       "      <td>5.48</td>\n",
       "      <td>2015-02-25 02:00:00</td>\n",
       "    </tr>\n",
       "  </tbody>\n",
       "</table>\n",
       "</div>"
      ],
      "text/plain": [
       "   Unnamed: 0                        transaction_id  \\\n",
       "0           0  fbe2f35d-29fe-4a51-95fa-8a37563467b6   \n",
       "1           1  0aace3a4-7f59-4c3c-add5-348f02ecbb7a   \n",
       "2           2  ec19d65c-2a62-4de9-942d-624ab4cfe999   \n",
       "3           3  aa3aadc9-c3d0-45f4-9835-2bec0477b701   \n",
       "4           4  7183edba-8336-4eb0-a44e-b63b00fcd1ee   \n",
       "\n",
       "                             product_id category  unit_price  quantity  total  \\\n",
       "0  c95b1e52-c0ad-44ac-b569-328732b3c284    fruit        2.94         4  11.76   \n",
       "1  9e81ff91-4a02-4739-aac0-0fb3065026d6    fruit        1.97         2   3.94   \n",
       "2  1ffed4ab-c2e2-43aa-8f11-ec763e4e7249    fruit        2.93         5  14.65   \n",
       "3  fc49c2d5-7150-49e4-beee-20ec2cd577ed    fruit        1.48         1   1.48   \n",
       "4  954bcb8c-62b7-4ad6-8fc3-a80b1858c3f0    fruit        2.74         2   5.48   \n",
       "\n",
       "            timestamp  \n",
       "0 2012-11-30 14:00:00  \n",
       "1 2015-08-20 05:00:00  \n",
       "2 2010-12-16 16:00:00  \n",
       "3 2012-05-19 12:00:00  \n",
       "4 2015-02-25 02:00:00  "
      ]
     },
     "execution_count": 82,
     "metadata": {},
     "output_type": "execute_result"
    }
   ],
   "source": [
    "from datetime import datetime\n",
    "import pandas as pd\n",
    "\n",
    "def convert_timestamp_to_hourly(data: pd.DataFrame = None, column: str = None):\n",
    "  dummy = data.copy()\n",
    "  new_ts = dummy[column].tolist()\n",
    "  new_ts = [i.strftime('%Y-%m-%d %H:00:00') for i in new_ts]\n",
    "  new_ts = [datetime.strptime(i, '%Y-%m-%d %H:00:00') for i in new_ts]\n",
    "  dummy[column] = new_ts\n",
    "  return dummy\n",
    "#fixed conversion to hour - rahul\n",
    "sales_df = convert_timestamp_to_hourly(sales_df, 'timestamp')\n",
    "sales_df.head()\n",
    "\n"
   ]
  },
  {
   "cell_type": "code",
   "execution_count": 83,
   "metadata": {},
   "outputs": [
    {
     "data": {
      "text/html": [
       "<div>\n",
       "<style scoped>\n",
       "    .dataframe tbody tr th:only-of-type {\n",
       "        vertical-align: middle;\n",
       "    }\n",
       "\n",
       "    .dataframe tbody tr th {\n",
       "        vertical-align: top;\n",
       "    }\n",
       "\n",
       "    .dataframe thead th {\n",
       "        text-align: right;\n",
       "    }\n",
       "</style>\n",
       "<table border=\"1\" class=\"dataframe\">\n",
       "  <thead>\n",
       "    <tr style=\"text-align: right;\">\n",
       "      <th></th>\n",
       "      <th>Unnamed: 0</th>\n",
       "      <th>temperature</th>\n",
       "      <th>id</th>\n",
       "      <th>timestamp</th>\n",
       "    </tr>\n",
       "  </thead>\n",
       "  <tbody>\n",
       "    <tr>\n",
       "      <th>0</th>\n",
       "      <td>0</td>\n",
       "      <td>2.96</td>\n",
       "      <td>1dca8a55-63f5-485b-82f9-a49c64df7c95</td>\n",
       "      <td>2019-05-23 10:00:00</td>\n",
       "    </tr>\n",
       "    <tr>\n",
       "      <th>1</th>\n",
       "      <td>1</td>\n",
       "      <td>1.88</td>\n",
       "      <td>786cc07d-54c9-4a51-ad6b-c5ccb7e0c17b</td>\n",
       "      <td>2019-03-31 13:00:00</td>\n",
       "    </tr>\n",
       "    <tr>\n",
       "      <th>2</th>\n",
       "      <td>2</td>\n",
       "      <td>1.78</td>\n",
       "      <td>d3306dab-fc36-4e9b-adde-e4d27652b00d</td>\n",
       "      <td>2022-02-18 19:00:00</td>\n",
       "    </tr>\n",
       "    <tr>\n",
       "      <th>3</th>\n",
       "      <td>3</td>\n",
       "      <td>2.18</td>\n",
       "      <td>5728e3dd-21d3-4783-b6de-7b7fcfb0c4b4</td>\n",
       "      <td>2017-03-09 00:00:00</td>\n",
       "    </tr>\n",
       "    <tr>\n",
       "      <th>4</th>\n",
       "      <td>4</td>\n",
       "      <td>1.38</td>\n",
       "      <td>5bc9e167-17d4-4a70-b734-90d7b021f473</td>\n",
       "      <td>2015-01-24 09:00:00</td>\n",
       "    </tr>\n",
       "  </tbody>\n",
       "</table>\n",
       "</div>"
      ],
      "text/plain": [
       "   Unnamed: 0  temperature                                    id  \\\n",
       "0           0         2.96  1dca8a55-63f5-485b-82f9-a49c64df7c95   \n",
       "1           1         1.88  786cc07d-54c9-4a51-ad6b-c5ccb7e0c17b   \n",
       "2           2         1.78  d3306dab-fc36-4e9b-adde-e4d27652b00d   \n",
       "3           3         2.18  5728e3dd-21d3-4783-b6de-7b7fcfb0c4b4   \n",
       "4           4         1.38  5bc9e167-17d4-4a70-b734-90d7b021f473   \n",
       "\n",
       "            timestamp  \n",
       "0 2019-05-23 10:00:00  \n",
       "1 2019-03-31 13:00:00  \n",
       "2 2022-02-18 19:00:00  \n",
       "3 2017-03-09 00:00:00  \n",
       "4 2015-01-24 09:00:00  "
      ]
     },
     "execution_count": 83,
     "metadata": {},
     "output_type": "execute_result"
    }
   ],
   "source": [
    "#fixed hour conversion in temperature - rahul\n",
    "temp_df = convert_timestamp_to_hourly(temp_df, 'timestamp')\n",
    "temp_df.head()"
   ]
  },
  {
   "cell_type": "code",
   "execution_count": 84,
   "metadata": {},
   "outputs": [
    {
     "data": {
      "text/html": [
       "<div>\n",
       "<style scoped>\n",
       "    .dataframe tbody tr th:only-of-type {\n",
       "        vertical-align: middle;\n",
       "    }\n",
       "\n",
       "    .dataframe tbody tr th {\n",
       "        vertical-align: top;\n",
       "    }\n",
       "\n",
       "    .dataframe thead th {\n",
       "        text-align: right;\n",
       "    }\n",
       "</style>\n",
       "<table border=\"1\" class=\"dataframe\">\n",
       "  <thead>\n",
       "    <tr style=\"text-align: right;\">\n",
       "      <th></th>\n",
       "      <th>Unnamed: 0</th>\n",
       "      <th>product_id</th>\n",
       "      <th>estimated_stock_pct</th>\n",
       "      <th>id</th>\n",
       "      <th>timestamp</th>\n",
       "    </tr>\n",
       "  </thead>\n",
       "  <tbody>\n",
       "    <tr>\n",
       "      <th>0</th>\n",
       "      <td>0</td>\n",
       "      <td>f658605e-75f3-4fed-a655-c0903f344427</td>\n",
       "      <td>0.75</td>\n",
       "      <td>3c7caeb6-e40b-4576-95e8-37bc102c5d9d</td>\n",
       "      <td>2021-07-22 10:00:00</td>\n",
       "    </tr>\n",
       "    <tr>\n",
       "      <th>1</th>\n",
       "      <td>1</td>\n",
       "      <td>de06083a-f5c0-451d-b2f4-9ab88b52609d</td>\n",
       "      <td>0.48</td>\n",
       "      <td>8f854997-b4f2-42f2-a524-8bf34b72516c</td>\n",
       "      <td>2016-10-11 05:00:00</td>\n",
       "    </tr>\n",
       "    <tr>\n",
       "      <th>2</th>\n",
       "      <td>2</td>\n",
       "      <td>ce8f3a04-d1a4-43b1-a7c2-fa1b8e7674c8</td>\n",
       "      <td>0.58</td>\n",
       "      <td>18e81b4f-701a-44a4-ad8e-9d54531804d0</td>\n",
       "      <td>2020-04-24 22:00:00</td>\n",
       "    </tr>\n",
       "    <tr>\n",
       "      <th>3</th>\n",
       "      <td>3</td>\n",
       "      <td>c21e3ba9-92a3-4745-92c2-6faef73223f7</td>\n",
       "      <td>0.79</td>\n",
       "      <td>3f1cc365-516e-46fc-bac4-75664564096a</td>\n",
       "      <td>2019-06-22 10:00:00</td>\n",
       "    </tr>\n",
       "    <tr>\n",
       "      <th>4</th>\n",
       "      <td>4</td>\n",
       "      <td>7f478817-aa5b-44e9-9059-8045228c9eb0</td>\n",
       "      <td>0.22</td>\n",
       "      <td>c29547a1-efe2-4e48-8e74-f25d2cf36781</td>\n",
       "      <td>2014-03-22 19:00:00</td>\n",
       "    </tr>\n",
       "  </tbody>\n",
       "</table>\n",
       "</div>"
      ],
      "text/plain": [
       "   Unnamed: 0                            product_id  estimated_stock_pct  \\\n",
       "0           0  f658605e-75f3-4fed-a655-c0903f344427                 0.75   \n",
       "1           1  de06083a-f5c0-451d-b2f4-9ab88b52609d                 0.48   \n",
       "2           2  ce8f3a04-d1a4-43b1-a7c2-fa1b8e7674c8                 0.58   \n",
       "3           3  c21e3ba9-92a3-4745-92c2-6faef73223f7                 0.79   \n",
       "4           4  7f478817-aa5b-44e9-9059-8045228c9eb0                 0.22   \n",
       "\n",
       "                                     id           timestamp  \n",
       "0  3c7caeb6-e40b-4576-95e8-37bc102c5d9d 2021-07-22 10:00:00  \n",
       "1  8f854997-b4f2-42f2-a524-8bf34b72516c 2016-10-11 05:00:00  \n",
       "2  18e81b4f-701a-44a4-ad8e-9d54531804d0 2020-04-24 22:00:00  \n",
       "3  3f1cc365-516e-46fc-bac4-75664564096a 2019-06-22 10:00:00  \n",
       "4  c29547a1-efe2-4e48-8e74-f25d2cf36781 2014-03-22 19:00:00  "
      ]
     },
     "execution_count": 84,
     "metadata": {},
     "output_type": "execute_result"
    }
   ],
   "source": [
    "stock_df = convert_timestamp_to_hourly(stock_df, 'timestamp')\n",
    "stock_df.head()\n"
   ]
  },
  {
   "cell_type": "code",
   "execution_count": 85,
   "metadata": {},
   "outputs": [
    {
     "data": {
      "text/html": [
       "<div>\n",
       "<style scoped>\n",
       "    .dataframe tbody tr th:only-of-type {\n",
       "        vertical-align: middle;\n",
       "    }\n",
       "\n",
       "    .dataframe tbody tr th {\n",
       "        vertical-align: top;\n",
       "    }\n",
       "\n",
       "    .dataframe thead th {\n",
       "        text-align: right;\n",
       "    }\n",
       "</style>\n",
       "<table border=\"1\" class=\"dataframe\">\n",
       "  <thead>\n",
       "    <tr style=\"text-align: right;\">\n",
       "      <th></th>\n",
       "      <th>timestamp</th>\n",
       "      <th>product_id</th>\n",
       "      <th>estimated_stock_pct</th>\n",
       "    </tr>\n",
       "  </thead>\n",
       "  <tbody>\n",
       "    <tr>\n",
       "      <th>0</th>\n",
       "      <td>2010-01-01 01:00:00</td>\n",
       "      <td>1cf0b205-85d0-4f17-86e7-5f4a3b309f5e</td>\n",
       "      <td>0.86</td>\n",
       "    </tr>\n",
       "    <tr>\n",
       "      <th>1</th>\n",
       "      <td>2010-01-01 20:00:00</td>\n",
       "      <td>e3dcd026-ef70-4bcf-8e77-71d6740f042d</td>\n",
       "      <td>0.16</td>\n",
       "    </tr>\n",
       "    <tr>\n",
       "      <th>2</th>\n",
       "      <td>2010-01-02 03:00:00</td>\n",
       "      <td>24558ae1-8b93-4227-8349-bb17ca93cf17</td>\n",
       "      <td>0.23</td>\n",
       "    </tr>\n",
       "    <tr>\n",
       "      <th>3</th>\n",
       "      <td>2010-01-02 03:00:00</td>\n",
       "      <td>75d576b8-dab5-4663-9523-ec5f07819535</td>\n",
       "      <td>0.70</td>\n",
       "    </tr>\n",
       "    <tr>\n",
       "      <th>4</th>\n",
       "      <td>2010-01-02 03:00:00</td>\n",
       "      <td>cee3e2b2-67e4-41a8-9ec5-8f9ddcd84435</td>\n",
       "      <td>0.24</td>\n",
       "    </tr>\n",
       "  </tbody>\n",
       "</table>\n",
       "</div>"
      ],
      "text/plain": [
       "            timestamp                            product_id  \\\n",
       "0 2010-01-01 01:00:00  1cf0b205-85d0-4f17-86e7-5f4a3b309f5e   \n",
       "1 2010-01-01 20:00:00  e3dcd026-ef70-4bcf-8e77-71d6740f042d   \n",
       "2 2010-01-02 03:00:00  24558ae1-8b93-4227-8349-bb17ca93cf17   \n",
       "3 2010-01-02 03:00:00  75d576b8-dab5-4663-9523-ec5f07819535   \n",
       "4 2010-01-02 03:00:00  cee3e2b2-67e4-41a8-9ec5-8f9ddcd84435   \n",
       "\n",
       "   estimated_stock_pct  \n",
       "0                 0.86  \n",
       "1                 0.16  \n",
       "2                 0.23  \n",
       "3                 0.70  \n",
       "4                 0.24  "
      ]
     },
     "execution_count": 85,
     "metadata": {},
     "output_type": "execute_result"
    }
   ],
   "source": [
    "stock_agg = stock_df.groupby(['timestamp', 'product_id']).agg({'estimated_stock_pct': 'mean'}).reset_index()\n",
    "stock_agg.head()"
   ]
  },
  {
   "cell_type": "code",
   "execution_count": 86,
   "metadata": {},
   "outputs": [
    {
     "data": {
      "text/html": [
       "<div>\n",
       "<style scoped>\n",
       "    .dataframe tbody tr th:only-of-type {\n",
       "        vertical-align: middle;\n",
       "    }\n",
       "\n",
       "    .dataframe tbody tr th {\n",
       "        vertical-align: top;\n",
       "    }\n",
       "\n",
       "    .dataframe thead th {\n",
       "        text-align: right;\n",
       "    }\n",
       "</style>\n",
       "<table border=\"1\" class=\"dataframe\">\n",
       "  <thead>\n",
       "    <tr style=\"text-align: right;\">\n",
       "      <th></th>\n",
       "      <th>timestamp</th>\n",
       "      <th>product_id</th>\n",
       "      <th>quantity</th>\n",
       "    </tr>\n",
       "  </thead>\n",
       "  <tbody>\n",
       "    <tr>\n",
       "      <th>0</th>\n",
       "      <td>2010-01-01 22:00:00</td>\n",
       "      <td>b3ceb065-a3e4-494d-b870-1015bd569c7a</td>\n",
       "      <td>2</td>\n",
       "    </tr>\n",
       "    <tr>\n",
       "      <th>1</th>\n",
       "      <td>2010-01-02 11:00:00</td>\n",
       "      <td>327b3560-da0a-4054-b756-9027041e85a9</td>\n",
       "      <td>5</td>\n",
       "    </tr>\n",
       "    <tr>\n",
       "      <th>2</th>\n",
       "      <td>2010-01-02 19:00:00</td>\n",
       "      <td>2abf9cc6-f093-4f4e-a6ac-752bac7abf10</td>\n",
       "      <td>4</td>\n",
       "    </tr>\n",
       "    <tr>\n",
       "      <th>3</th>\n",
       "      <td>2010-01-04 10:00:00</td>\n",
       "      <td>eaa09ec8-9903-4ab3-a9a9-b6dca279647a</td>\n",
       "      <td>2</td>\n",
       "    </tr>\n",
       "    <tr>\n",
       "      <th>4</th>\n",
       "      <td>2010-01-05 09:00:00</td>\n",
       "      <td>021860a0-9752-4bb9-b54c-81ac605c2b0d</td>\n",
       "      <td>4</td>\n",
       "    </tr>\n",
       "  </tbody>\n",
       "</table>\n",
       "</div>"
      ],
      "text/plain": [
       "            timestamp                            product_id  quantity\n",
       "0 2010-01-01 22:00:00  b3ceb065-a3e4-494d-b870-1015bd569c7a         2\n",
       "1 2010-01-02 11:00:00  327b3560-da0a-4054-b756-9027041e85a9         5\n",
       "2 2010-01-02 19:00:00  2abf9cc6-f093-4f4e-a6ac-752bac7abf10         4\n",
       "3 2010-01-04 10:00:00  eaa09ec8-9903-4ab3-a9a9-b6dca279647a         2\n",
       "4 2010-01-05 09:00:00  021860a0-9752-4bb9-b54c-81ac605c2b0d         4"
      ]
     },
     "execution_count": 86,
     "metadata": {},
     "output_type": "execute_result"
    }
   ],
   "source": [
    "sales_agg = sales_df.groupby(['timestamp', 'product_id']).agg({'quantity': 'sum'}).reset_index()\n",
    "sales_agg.head()"
   ]
  },
  {
   "cell_type": "code",
   "execution_count": 87,
   "metadata": {},
   "outputs": [
    {
     "data": {
      "text/html": [
       "<div>\n",
       "<style scoped>\n",
       "    .dataframe tbody tr th:only-of-type {\n",
       "        vertical-align: middle;\n",
       "    }\n",
       "\n",
       "    .dataframe tbody tr th {\n",
       "        vertical-align: top;\n",
       "    }\n",
       "\n",
       "    .dataframe thead th {\n",
       "        text-align: right;\n",
       "    }\n",
       "</style>\n",
       "<table border=\"1\" class=\"dataframe\">\n",
       "  <thead>\n",
       "    <tr style=\"text-align: right;\">\n",
       "      <th></th>\n",
       "      <th>timestamp</th>\n",
       "      <th>temperature</th>\n",
       "    </tr>\n",
       "  </thead>\n",
       "  <tbody>\n",
       "    <tr>\n",
       "      <th>0</th>\n",
       "      <td>2010-01-01 04:00:00</td>\n",
       "      <td>-12.905</td>\n",
       "    </tr>\n",
       "    <tr>\n",
       "      <th>1</th>\n",
       "      <td>2010-01-01 05:00:00</td>\n",
       "      <td>-0.280</td>\n",
       "    </tr>\n",
       "    <tr>\n",
       "      <th>2</th>\n",
       "      <td>2010-01-01 08:00:00</td>\n",
       "      <td>0.190</td>\n",
       "    </tr>\n",
       "    <tr>\n",
       "      <th>3</th>\n",
       "      <td>2010-01-01 10:00:00</td>\n",
       "      <td>-1.390</td>\n",
       "    </tr>\n",
       "    <tr>\n",
       "      <th>4</th>\n",
       "      <td>2010-01-01 11:00:00</td>\n",
       "      <td>0.690</td>\n",
       "    </tr>\n",
       "  </tbody>\n",
       "</table>\n",
       "</div>"
      ],
      "text/plain": [
       "            timestamp  temperature\n",
       "0 2010-01-01 04:00:00      -12.905\n",
       "1 2010-01-01 05:00:00       -0.280\n",
       "2 2010-01-01 08:00:00        0.190\n",
       "3 2010-01-01 10:00:00       -1.390\n",
       "4 2010-01-01 11:00:00        0.690"
      ]
     },
     "execution_count": 87,
     "metadata": {},
     "output_type": "execute_result"
    }
   ],
   "source": [
    "temp_agg = temp_df.groupby(['timestamp']).agg({'temperature': 'mean'}).reset_index()\n",
    "temp_agg.head()"
   ]
  },
  {
   "cell_type": "code",
   "execution_count": 88,
   "metadata": {},
   "outputs": [
    {
     "data": {
      "text/html": [
       "<div>\n",
       "<style scoped>\n",
       "    .dataframe tbody tr th:only-of-type {\n",
       "        vertical-align: middle;\n",
       "    }\n",
       "\n",
       "    .dataframe tbody tr th {\n",
       "        vertical-align: top;\n",
       "    }\n",
       "\n",
       "    .dataframe thead th {\n",
       "        text-align: right;\n",
       "    }\n",
       "</style>\n",
       "<table border=\"1\" class=\"dataframe\">\n",
       "  <thead>\n",
       "    <tr style=\"text-align: right;\">\n",
       "      <th></th>\n",
       "      <th>timestamp</th>\n",
       "      <th>product_id</th>\n",
       "      <th>estimated_stock_pct</th>\n",
       "      <th>quantity</th>\n",
       "    </tr>\n",
       "  </thead>\n",
       "  <tbody>\n",
       "    <tr>\n",
       "      <th>0</th>\n",
       "      <td>2010-01-01 01:00:00</td>\n",
       "      <td>1cf0b205-85d0-4f17-86e7-5f4a3b309f5e</td>\n",
       "      <td>0.86</td>\n",
       "      <td>NaN</td>\n",
       "    </tr>\n",
       "    <tr>\n",
       "      <th>1</th>\n",
       "      <td>2010-01-01 20:00:00</td>\n",
       "      <td>e3dcd026-ef70-4bcf-8e77-71d6740f042d</td>\n",
       "      <td>0.16</td>\n",
       "      <td>NaN</td>\n",
       "    </tr>\n",
       "    <tr>\n",
       "      <th>2</th>\n",
       "      <td>2010-01-02 03:00:00</td>\n",
       "      <td>24558ae1-8b93-4227-8349-bb17ca93cf17</td>\n",
       "      <td>0.23</td>\n",
       "      <td>NaN</td>\n",
       "    </tr>\n",
       "    <tr>\n",
       "      <th>3</th>\n",
       "      <td>2010-01-02 03:00:00</td>\n",
       "      <td>75d576b8-dab5-4663-9523-ec5f07819535</td>\n",
       "      <td>0.70</td>\n",
       "      <td>NaN</td>\n",
       "    </tr>\n",
       "    <tr>\n",
       "      <th>4</th>\n",
       "      <td>2010-01-02 03:00:00</td>\n",
       "      <td>cee3e2b2-67e4-41a8-9ec5-8f9ddcd84435</td>\n",
       "      <td>0.24</td>\n",
       "      <td>NaN</td>\n",
       "    </tr>\n",
       "  </tbody>\n",
       "</table>\n",
       "</div>"
      ],
      "text/plain": [
       "            timestamp                            product_id  \\\n",
       "0 2010-01-01 01:00:00  1cf0b205-85d0-4f17-86e7-5f4a3b309f5e   \n",
       "1 2010-01-01 20:00:00  e3dcd026-ef70-4bcf-8e77-71d6740f042d   \n",
       "2 2010-01-02 03:00:00  24558ae1-8b93-4227-8349-bb17ca93cf17   \n",
       "3 2010-01-02 03:00:00  75d576b8-dab5-4663-9523-ec5f07819535   \n",
       "4 2010-01-02 03:00:00  cee3e2b2-67e4-41a8-9ec5-8f9ddcd84435   \n",
       "\n",
       "   estimated_stock_pct  quantity  \n",
       "0                 0.86       NaN  \n",
       "1                 0.16       NaN  \n",
       "2                 0.23       NaN  \n",
       "3                 0.70       NaN  \n",
       "4                 0.24       NaN  "
      ]
     },
     "execution_count": 88,
     "metadata": {},
     "output_type": "execute_result"
    }
   ],
   "source": [
    "merged_df = stock_agg.merge(sales_agg, on=['timestamp', 'product_id'], how='left')\n",
    "merged_df.head()"
   ]
  },
  {
   "cell_type": "code",
   "execution_count": 89,
   "metadata": {},
   "outputs": [
    {
     "data": {
      "text/html": [
       "<div>\n",
       "<style scoped>\n",
       "    .dataframe tbody tr th:only-of-type {\n",
       "        vertical-align: middle;\n",
       "    }\n",
       "\n",
       "    .dataframe tbody tr th {\n",
       "        vertical-align: top;\n",
       "    }\n",
       "\n",
       "    .dataframe thead th {\n",
       "        text-align: right;\n",
       "    }\n",
       "</style>\n",
       "<table border=\"1\" class=\"dataframe\">\n",
       "  <thead>\n",
       "    <tr style=\"text-align: right;\">\n",
       "      <th></th>\n",
       "      <th>timestamp</th>\n",
       "      <th>product_id</th>\n",
       "      <th>estimated_stock_pct</th>\n",
       "      <th>quantity</th>\n",
       "      <th>temperature</th>\n",
       "    </tr>\n",
       "  </thead>\n",
       "  <tbody>\n",
       "    <tr>\n",
       "      <th>0</th>\n",
       "      <td>2010-01-01 01:00:00</td>\n",
       "      <td>1cf0b205-85d0-4f17-86e7-5f4a3b309f5e</td>\n",
       "      <td>0.86</td>\n",
       "      <td>NaN</td>\n",
       "      <td>NaN</td>\n",
       "    </tr>\n",
       "    <tr>\n",
       "      <th>1</th>\n",
       "      <td>2010-01-01 20:00:00</td>\n",
       "      <td>e3dcd026-ef70-4bcf-8e77-71d6740f042d</td>\n",
       "      <td>0.16</td>\n",
       "      <td>NaN</td>\n",
       "      <td>2.62</td>\n",
       "    </tr>\n",
       "    <tr>\n",
       "      <th>2</th>\n",
       "      <td>2010-01-02 03:00:00</td>\n",
       "      <td>24558ae1-8b93-4227-8349-bb17ca93cf17</td>\n",
       "      <td>0.23</td>\n",
       "      <td>NaN</td>\n",
       "      <td>NaN</td>\n",
       "    </tr>\n",
       "    <tr>\n",
       "      <th>3</th>\n",
       "      <td>2010-01-02 03:00:00</td>\n",
       "      <td>75d576b8-dab5-4663-9523-ec5f07819535</td>\n",
       "      <td>0.70</td>\n",
       "      <td>NaN</td>\n",
       "      <td>NaN</td>\n",
       "    </tr>\n",
       "    <tr>\n",
       "      <th>4</th>\n",
       "      <td>2010-01-02 03:00:00</td>\n",
       "      <td>cee3e2b2-67e4-41a8-9ec5-8f9ddcd84435</td>\n",
       "      <td>0.24</td>\n",
       "      <td>NaN</td>\n",
       "      <td>NaN</td>\n",
       "    </tr>\n",
       "  </tbody>\n",
       "</table>\n",
       "</div>"
      ],
      "text/plain": [
       "            timestamp                            product_id  \\\n",
       "0 2010-01-01 01:00:00  1cf0b205-85d0-4f17-86e7-5f4a3b309f5e   \n",
       "1 2010-01-01 20:00:00  e3dcd026-ef70-4bcf-8e77-71d6740f042d   \n",
       "2 2010-01-02 03:00:00  24558ae1-8b93-4227-8349-bb17ca93cf17   \n",
       "3 2010-01-02 03:00:00  75d576b8-dab5-4663-9523-ec5f07819535   \n",
       "4 2010-01-02 03:00:00  cee3e2b2-67e4-41a8-9ec5-8f9ddcd84435   \n",
       "\n",
       "   estimated_stock_pct  quantity  temperature  \n",
       "0                 0.86       NaN          NaN  \n",
       "1                 0.16       NaN         2.62  \n",
       "2                 0.23       NaN          NaN  \n",
       "3                 0.70       NaN          NaN  \n",
       "4                 0.24       NaN          NaN  "
      ]
     },
     "execution_count": 89,
     "metadata": {},
     "output_type": "execute_result"
    }
   ],
   "source": [
    "merged_df = merged_df.merge(temp_agg, on='timestamp', how='left')\n",
    "merged_df.head()"
   ]
  },
  {
   "cell_type": "code",
   "execution_count": 90,
   "metadata": {},
   "outputs": [
    {
     "name": "stdout",
     "output_type": "stream",
     "text": [
      "<class 'pandas.core.frame.DataFrame'>\n",
      "RangeIndex: 14998 entries, 0 to 14997\n",
      "Data columns (total 5 columns):\n",
      " #   Column               Non-Null Count  Dtype         \n",
      "---  ------               --------------  -----         \n",
      " 0   timestamp            14998 non-null  datetime64[ns]\n",
      " 1   product_id           14998 non-null  object        \n",
      " 2   estimated_stock_pct  14998 non-null  float64       \n",
      " 3   quantity             14998 non-null  float64       \n",
      " 4   temperature          2661 non-null   float64       \n",
      "dtypes: datetime64[ns](1), float64(3), object(1)\n",
      "memory usage: 586.0+ KB\n"
     ]
    }
   ],
   "source": [
    "merged_df['quantity'] = merged_df['quantity'].fillna(0)\n",
    "merged_df.info()"
   ]
  },
  {
   "cell_type": "code",
   "execution_count": 91,
   "metadata": {},
   "outputs": [],
   "source": [
    "product_categories = sales_df[['product_id', 'category']]\n",
    "product_categories = product_categories.drop_duplicates()\n",
    "\n",
    "product_price = sales_df[['product_id', 'unit_price']]\n",
    "product_price = product_price.drop_duplicates()"
   ]
  },
  {
   "cell_type": "code",
   "execution_count": 92,
   "metadata": {},
   "outputs": [
    {
     "data": {
      "text/html": [
       "<div>\n",
       "<style scoped>\n",
       "    .dataframe tbody tr th:only-of-type {\n",
       "        vertical-align: middle;\n",
       "    }\n",
       "\n",
       "    .dataframe tbody tr th {\n",
       "        vertical-align: top;\n",
       "    }\n",
       "\n",
       "    .dataframe thead th {\n",
       "        text-align: right;\n",
       "    }\n",
       "</style>\n",
       "<table border=\"1\" class=\"dataframe\">\n",
       "  <thead>\n",
       "    <tr style=\"text-align: right;\">\n",
       "      <th></th>\n",
       "      <th>timestamp</th>\n",
       "      <th>product_id</th>\n",
       "      <th>estimated_stock_pct</th>\n",
       "      <th>quantity</th>\n",
       "      <th>temperature</th>\n",
       "      <th>category</th>\n",
       "    </tr>\n",
       "  </thead>\n",
       "  <tbody>\n",
       "    <tr>\n",
       "      <th>0</th>\n",
       "      <td>2010-01-01 01:00:00</td>\n",
       "      <td>1cf0b205-85d0-4f17-86e7-5f4a3b309f5e</td>\n",
       "      <td>0.86</td>\n",
       "      <td>0.0</td>\n",
       "      <td>NaN</td>\n",
       "      <td>NaN</td>\n",
       "    </tr>\n",
       "    <tr>\n",
       "      <th>1</th>\n",
       "      <td>2010-01-01 20:00:00</td>\n",
       "      <td>e3dcd026-ef70-4bcf-8e77-71d6740f042d</td>\n",
       "      <td>0.16</td>\n",
       "      <td>0.0</td>\n",
       "      <td>2.62</td>\n",
       "      <td>NaN</td>\n",
       "    </tr>\n",
       "    <tr>\n",
       "      <th>2</th>\n",
       "      <td>2010-01-02 03:00:00</td>\n",
       "      <td>24558ae1-8b93-4227-8349-bb17ca93cf17</td>\n",
       "      <td>0.23</td>\n",
       "      <td>0.0</td>\n",
       "      <td>NaN</td>\n",
       "      <td>NaN</td>\n",
       "    </tr>\n",
       "    <tr>\n",
       "      <th>3</th>\n",
       "      <td>2010-01-02 03:00:00</td>\n",
       "      <td>75d576b8-dab5-4663-9523-ec5f07819535</td>\n",
       "      <td>0.70</td>\n",
       "      <td>0.0</td>\n",
       "      <td>NaN</td>\n",
       "      <td>NaN</td>\n",
       "    </tr>\n",
       "    <tr>\n",
       "      <th>4</th>\n",
       "      <td>2010-01-02 03:00:00</td>\n",
       "      <td>cee3e2b2-67e4-41a8-9ec5-8f9ddcd84435</td>\n",
       "      <td>0.24</td>\n",
       "      <td>0.0</td>\n",
       "      <td>NaN</td>\n",
       "      <td>NaN</td>\n",
       "    </tr>\n",
       "  </tbody>\n",
       "</table>\n",
       "</div>"
      ],
      "text/plain": [
       "            timestamp                            product_id  \\\n",
       "0 2010-01-01 01:00:00  1cf0b205-85d0-4f17-86e7-5f4a3b309f5e   \n",
       "1 2010-01-01 20:00:00  e3dcd026-ef70-4bcf-8e77-71d6740f042d   \n",
       "2 2010-01-02 03:00:00  24558ae1-8b93-4227-8349-bb17ca93cf17   \n",
       "3 2010-01-02 03:00:00  75d576b8-dab5-4663-9523-ec5f07819535   \n",
       "4 2010-01-02 03:00:00  cee3e2b2-67e4-41a8-9ec5-8f9ddcd84435   \n",
       "\n",
       "   estimated_stock_pct  quantity  temperature category  \n",
       "0                 0.86       0.0          NaN      NaN  \n",
       "1                 0.16       0.0         2.62      NaN  \n",
       "2                 0.23       0.0          NaN      NaN  \n",
       "3                 0.70       0.0          NaN      NaN  \n",
       "4                 0.24       0.0          NaN      NaN  "
      ]
     },
     "execution_count": 92,
     "metadata": {},
     "output_type": "execute_result"
    }
   ],
   "source": [
    "merged_df = merged_df.merge(product_categories, on=\"product_id\", how=\"left\")\n",
    "merged_df.head()"
   ]
  },
  {
   "cell_type": "code",
   "execution_count": 93,
   "metadata": {},
   "outputs": [
    {
     "data": {
      "text/html": [
       "<div>\n",
       "<style scoped>\n",
       "    .dataframe tbody tr th:only-of-type {\n",
       "        vertical-align: middle;\n",
       "    }\n",
       "\n",
       "    .dataframe tbody tr th {\n",
       "        vertical-align: top;\n",
       "    }\n",
       "\n",
       "    .dataframe thead th {\n",
       "        text-align: right;\n",
       "    }\n",
       "</style>\n",
       "<table border=\"1\" class=\"dataframe\">\n",
       "  <thead>\n",
       "    <tr style=\"text-align: right;\">\n",
       "      <th></th>\n",
       "      <th>timestamp</th>\n",
       "      <th>product_id</th>\n",
       "      <th>estimated_stock_pct</th>\n",
       "      <th>quantity</th>\n",
       "      <th>temperature</th>\n",
       "      <th>category</th>\n",
       "      <th>unit_price</th>\n",
       "    </tr>\n",
       "  </thead>\n",
       "  <tbody>\n",
       "    <tr>\n",
       "      <th>0</th>\n",
       "      <td>2010-01-01 01:00:00</td>\n",
       "      <td>1cf0b205-85d0-4f17-86e7-5f4a3b309f5e</td>\n",
       "      <td>0.86</td>\n",
       "      <td>0.0</td>\n",
       "      <td>NaN</td>\n",
       "      <td>NaN</td>\n",
       "      <td>NaN</td>\n",
       "    </tr>\n",
       "    <tr>\n",
       "      <th>1</th>\n",
       "      <td>2010-01-01 20:00:00</td>\n",
       "      <td>e3dcd026-ef70-4bcf-8e77-71d6740f042d</td>\n",
       "      <td>0.16</td>\n",
       "      <td>0.0</td>\n",
       "      <td>2.62</td>\n",
       "      <td>NaN</td>\n",
       "      <td>NaN</td>\n",
       "    </tr>\n",
       "    <tr>\n",
       "      <th>2</th>\n",
       "      <td>2010-01-02 03:00:00</td>\n",
       "      <td>24558ae1-8b93-4227-8349-bb17ca93cf17</td>\n",
       "      <td>0.23</td>\n",
       "      <td>0.0</td>\n",
       "      <td>NaN</td>\n",
       "      <td>NaN</td>\n",
       "      <td>NaN</td>\n",
       "    </tr>\n",
       "    <tr>\n",
       "      <th>3</th>\n",
       "      <td>2010-01-02 03:00:00</td>\n",
       "      <td>75d576b8-dab5-4663-9523-ec5f07819535</td>\n",
       "      <td>0.70</td>\n",
       "      <td>0.0</td>\n",
       "      <td>NaN</td>\n",
       "      <td>NaN</td>\n",
       "      <td>NaN</td>\n",
       "    </tr>\n",
       "    <tr>\n",
       "      <th>4</th>\n",
       "      <td>2010-01-02 03:00:00</td>\n",
       "      <td>cee3e2b2-67e4-41a8-9ec5-8f9ddcd84435</td>\n",
       "      <td>0.24</td>\n",
       "      <td>0.0</td>\n",
       "      <td>NaN</td>\n",
       "      <td>NaN</td>\n",
       "      <td>NaN</td>\n",
       "    </tr>\n",
       "  </tbody>\n",
       "</table>\n",
       "</div>"
      ],
      "text/plain": [
       "            timestamp                            product_id  \\\n",
       "0 2010-01-01 01:00:00  1cf0b205-85d0-4f17-86e7-5f4a3b309f5e   \n",
       "1 2010-01-01 20:00:00  e3dcd026-ef70-4bcf-8e77-71d6740f042d   \n",
       "2 2010-01-02 03:00:00  24558ae1-8b93-4227-8349-bb17ca93cf17   \n",
       "3 2010-01-02 03:00:00  75d576b8-dab5-4663-9523-ec5f07819535   \n",
       "4 2010-01-02 03:00:00  cee3e2b2-67e4-41a8-9ec5-8f9ddcd84435   \n",
       "\n",
       "   estimated_stock_pct  quantity  temperature category  unit_price  \n",
       "0                 0.86       0.0          NaN      NaN         NaN  \n",
       "1                 0.16       0.0         2.62      NaN         NaN  \n",
       "2                 0.23       0.0          NaN      NaN         NaN  \n",
       "3                 0.70       0.0          NaN      NaN         NaN  \n",
       "4                 0.24       0.0          NaN      NaN         NaN  "
      ]
     },
     "execution_count": 93,
     "metadata": {},
     "output_type": "execute_result"
    }
   ],
   "source": [
    "merged_df = merged_df.merge(product_price, on=\"product_id\", how=\"left\")\n",
    "merged_df.head()"
   ]
  },
  {
   "cell_type": "code",
   "execution_count": 94,
   "metadata": {},
   "outputs": [
    {
     "name": "stdout",
     "output_type": "stream",
     "text": [
      "<class 'pandas.core.frame.DataFrame'>\n",
      "RangeIndex: 14998 entries, 0 to 14997\n",
      "Data columns (total 7 columns):\n",
      " #   Column               Non-Null Count  Dtype         \n",
      "---  ------               --------------  -----         \n",
      " 0   timestamp            14998 non-null  datetime64[ns]\n",
      " 1   product_id           14998 non-null  object        \n",
      " 2   estimated_stock_pct  14998 non-null  float64       \n",
      " 3   quantity             14998 non-null  float64       \n",
      " 4   temperature          2661 non-null   float64       \n",
      " 5   category             0 non-null      object        \n",
      " 6   unit_price           0 non-null      float64       \n",
      "dtypes: datetime64[ns](1), float64(4), object(2)\n",
      "memory usage: 820.3+ KB\n"
     ]
    }
   ],
   "source": [
    "merged_df.info()"
   ]
  },
  {
   "cell_type": "code",
   "execution_count": 95,
   "metadata": {
    "colab": {
     "base_uri": "https://localhost:8080/",
     "height": 250
    },
    "id": "0lGkH2LA32kn",
    "outputId": "f3afdc34-229c-4869-b761-e8b7e1c55d91"
   },
   "outputs": [
    {
     "data": {
      "text/html": [
       "<div>\n",
       "<style scoped>\n",
       "    .dataframe tbody tr th:only-of-type {\n",
       "        vertical-align: middle;\n",
       "    }\n",
       "\n",
       "    .dataframe tbody tr th {\n",
       "        vertical-align: top;\n",
       "    }\n",
       "\n",
       "    .dataframe thead th {\n",
       "        text-align: right;\n",
       "    }\n",
       "</style>\n",
       "<table border=\"1\" class=\"dataframe\">\n",
       "  <thead>\n",
       "    <tr style=\"text-align: right;\">\n",
       "      <th></th>\n",
       "      <th>product_id</th>\n",
       "      <th>estimated_stock_pct</th>\n",
       "      <th>quantity</th>\n",
       "      <th>temperature</th>\n",
       "      <th>category</th>\n",
       "      <th>unit_price</th>\n",
       "      <th>timestamp_day_of_month</th>\n",
       "      <th>timestamp_day_of_week</th>\n",
       "      <th>timestamp_hour</th>\n",
       "    </tr>\n",
       "  </thead>\n",
       "  <tbody>\n",
       "    <tr>\n",
       "      <th>0</th>\n",
       "      <td>1cf0b205-85d0-4f17-86e7-5f4a3b309f5e</td>\n",
       "      <td>0.86</td>\n",
       "      <td>0.0</td>\n",
       "      <td>NaN</td>\n",
       "      <td>NaN</td>\n",
       "      <td>NaN</td>\n",
       "      <td>1</td>\n",
       "      <td>4</td>\n",
       "      <td>1</td>\n",
       "    </tr>\n",
       "    <tr>\n",
       "      <th>1</th>\n",
       "      <td>e3dcd026-ef70-4bcf-8e77-71d6740f042d</td>\n",
       "      <td>0.16</td>\n",
       "      <td>0.0</td>\n",
       "      <td>2.62</td>\n",
       "      <td>NaN</td>\n",
       "      <td>NaN</td>\n",
       "      <td>1</td>\n",
       "      <td>4</td>\n",
       "      <td>20</td>\n",
       "    </tr>\n",
       "    <tr>\n",
       "      <th>2</th>\n",
       "      <td>24558ae1-8b93-4227-8349-bb17ca93cf17</td>\n",
       "      <td>0.23</td>\n",
       "      <td>0.0</td>\n",
       "      <td>NaN</td>\n",
       "      <td>NaN</td>\n",
       "      <td>NaN</td>\n",
       "      <td>2</td>\n",
       "      <td>5</td>\n",
       "      <td>3</td>\n",
       "    </tr>\n",
       "    <tr>\n",
       "      <th>3</th>\n",
       "      <td>75d576b8-dab5-4663-9523-ec5f07819535</td>\n",
       "      <td>0.70</td>\n",
       "      <td>0.0</td>\n",
       "      <td>NaN</td>\n",
       "      <td>NaN</td>\n",
       "      <td>NaN</td>\n",
       "      <td>2</td>\n",
       "      <td>5</td>\n",
       "      <td>3</td>\n",
       "    </tr>\n",
       "    <tr>\n",
       "      <th>4</th>\n",
       "      <td>cee3e2b2-67e4-41a8-9ec5-8f9ddcd84435</td>\n",
       "      <td>0.24</td>\n",
       "      <td>0.0</td>\n",
       "      <td>NaN</td>\n",
       "      <td>NaN</td>\n",
       "      <td>NaN</td>\n",
       "      <td>2</td>\n",
       "      <td>5</td>\n",
       "      <td>3</td>\n",
       "    </tr>\n",
       "  </tbody>\n",
       "</table>\n",
       "</div>"
      ],
      "text/plain": [
       "                             product_id  estimated_stock_pct  quantity  \\\n",
       "0  1cf0b205-85d0-4f17-86e7-5f4a3b309f5e                 0.86       0.0   \n",
       "1  e3dcd026-ef70-4bcf-8e77-71d6740f042d                 0.16       0.0   \n",
       "2  24558ae1-8b93-4227-8349-bb17ca93cf17                 0.23       0.0   \n",
       "3  75d576b8-dab5-4663-9523-ec5f07819535                 0.70       0.0   \n",
       "4  cee3e2b2-67e4-41a8-9ec5-8f9ddcd84435                 0.24       0.0   \n",
       "\n",
       "   temperature category  unit_price  timestamp_day_of_month  \\\n",
       "0          NaN      NaN         NaN                       1   \n",
       "1         2.62      NaN         NaN                       1   \n",
       "2          NaN      NaN         NaN                       2   \n",
       "3          NaN      NaN         NaN                       2   \n",
       "4          NaN      NaN         NaN                       2   \n",
       "\n",
       "   timestamp_day_of_week  timestamp_hour  \n",
       "0                      4               1  \n",
       "1                      4              20  \n",
       "2                      5               3  \n",
       "3                      5               3  \n",
       "4                      5               3  "
      ]
     },
     "execution_count": 95,
     "metadata": {},
     "output_type": "execute_result"
    }
   ],
   "source": [
    "merged_df['timestamp_day_of_month'] = merged_df['timestamp'].dt.day\n",
    "merged_df['timestamp_day_of_week'] = merged_df['timestamp'].dt.dayofweek\n",
    "merged_df['timestamp_hour'] = merged_df['timestamp'].dt.hour\n",
    "merged_df.drop(columns=['timestamp'], inplace=True)\n",
    "merged_df.head()"
   ]
  },
  {
   "cell_type": "code",
   "execution_count": 96,
   "metadata": {},
   "outputs": [
    {
     "data": {
      "text/html": [
       "<div>\n",
       "<style scoped>\n",
       "    .dataframe tbody tr th:only-of-type {\n",
       "        vertical-align: middle;\n",
       "    }\n",
       "\n",
       "    .dataframe tbody tr th {\n",
       "        vertical-align: top;\n",
       "    }\n",
       "\n",
       "    .dataframe thead th {\n",
       "        text-align: right;\n",
       "    }\n",
       "</style>\n",
       "<table border=\"1\" class=\"dataframe\">\n",
       "  <thead>\n",
       "    <tr style=\"text-align: right;\">\n",
       "      <th></th>\n",
       "      <th>product_id</th>\n",
       "      <th>estimated_stock_pct</th>\n",
       "      <th>quantity</th>\n",
       "      <th>temperature</th>\n",
       "      <th>unit_price</th>\n",
       "      <th>timestamp_day_of_month</th>\n",
       "      <th>timestamp_day_of_week</th>\n",
       "      <th>timestamp_hour</th>\n",
       "    </tr>\n",
       "  </thead>\n",
       "  <tbody>\n",
       "    <tr>\n",
       "      <th>0</th>\n",
       "      <td>1cf0b205-85d0-4f17-86e7-5f4a3b309f5e</td>\n",
       "      <td>0.86</td>\n",
       "      <td>0.0</td>\n",
       "      <td>NaN</td>\n",
       "      <td>NaN</td>\n",
       "      <td>1</td>\n",
       "      <td>4</td>\n",
       "      <td>1</td>\n",
       "    </tr>\n",
       "    <tr>\n",
       "      <th>1</th>\n",
       "      <td>e3dcd026-ef70-4bcf-8e77-71d6740f042d</td>\n",
       "      <td>0.16</td>\n",
       "      <td>0.0</td>\n",
       "      <td>2.62</td>\n",
       "      <td>NaN</td>\n",
       "      <td>1</td>\n",
       "      <td>4</td>\n",
       "      <td>20</td>\n",
       "    </tr>\n",
       "    <tr>\n",
       "      <th>2</th>\n",
       "      <td>24558ae1-8b93-4227-8349-bb17ca93cf17</td>\n",
       "      <td>0.23</td>\n",
       "      <td>0.0</td>\n",
       "      <td>NaN</td>\n",
       "      <td>NaN</td>\n",
       "      <td>2</td>\n",
       "      <td>5</td>\n",
       "      <td>3</td>\n",
       "    </tr>\n",
       "    <tr>\n",
       "      <th>3</th>\n",
       "      <td>75d576b8-dab5-4663-9523-ec5f07819535</td>\n",
       "      <td>0.70</td>\n",
       "      <td>0.0</td>\n",
       "      <td>NaN</td>\n",
       "      <td>NaN</td>\n",
       "      <td>2</td>\n",
       "      <td>5</td>\n",
       "      <td>3</td>\n",
       "    </tr>\n",
       "    <tr>\n",
       "      <th>4</th>\n",
       "      <td>cee3e2b2-67e4-41a8-9ec5-8f9ddcd84435</td>\n",
       "      <td>0.24</td>\n",
       "      <td>0.0</td>\n",
       "      <td>NaN</td>\n",
       "      <td>NaN</td>\n",
       "      <td>2</td>\n",
       "      <td>5</td>\n",
       "      <td>3</td>\n",
       "    </tr>\n",
       "  </tbody>\n",
       "</table>\n",
       "</div>"
      ],
      "text/plain": [
       "                             product_id  estimated_stock_pct  quantity  \\\n",
       "0  1cf0b205-85d0-4f17-86e7-5f4a3b309f5e                 0.86       0.0   \n",
       "1  e3dcd026-ef70-4bcf-8e77-71d6740f042d                 0.16       0.0   \n",
       "2  24558ae1-8b93-4227-8349-bb17ca93cf17                 0.23       0.0   \n",
       "3  75d576b8-dab5-4663-9523-ec5f07819535                 0.70       0.0   \n",
       "4  cee3e2b2-67e4-41a8-9ec5-8f9ddcd84435                 0.24       0.0   \n",
       "\n",
       "   temperature  unit_price  timestamp_day_of_month  timestamp_day_of_week  \\\n",
       "0          NaN         NaN                       1                      4   \n",
       "1         2.62         NaN                       1                      4   \n",
       "2          NaN         NaN                       2                      5   \n",
       "3          NaN         NaN                       2                      5   \n",
       "4          NaN         NaN                       2                      5   \n",
       "\n",
       "   timestamp_hour  \n",
       "0               1  \n",
       "1              20  \n",
       "2               3  \n",
       "3               3  \n",
       "4               3  "
      ]
     },
     "execution_count": 96,
     "metadata": {},
     "output_type": "execute_result"
    }
   ],
   "source": [
    "merged_df = pd.get_dummies(merged_df, columns=['category'])\n",
    "merged_df.head()"
   ]
  },
  {
   "cell_type": "markdown",
   "metadata": {},
   "source": [
    "DROPPING DATA "
   ]
  },
  {
   "cell_type": "code",
   "execution_count": 97,
   "metadata": {},
   "outputs": [
    {
     "data": {
      "text/html": [
       "<div>\n",
       "<style scoped>\n",
       "    .dataframe tbody tr th:only-of-type {\n",
       "        vertical-align: middle;\n",
       "    }\n",
       "\n",
       "    .dataframe tbody tr th {\n",
       "        vertical-align: top;\n",
       "    }\n",
       "\n",
       "    .dataframe thead th {\n",
       "        text-align: right;\n",
       "    }\n",
       "</style>\n",
       "<table border=\"1\" class=\"dataframe\">\n",
       "  <thead>\n",
       "    <tr style=\"text-align: right;\">\n",
       "      <th></th>\n",
       "      <th>estimated_stock_pct</th>\n",
       "      <th>quantity</th>\n",
       "      <th>temperature</th>\n",
       "      <th>unit_price</th>\n",
       "      <th>timestamp_day_of_month</th>\n",
       "      <th>timestamp_day_of_week</th>\n",
       "      <th>timestamp_hour</th>\n",
       "    </tr>\n",
       "  </thead>\n",
       "  <tbody>\n",
       "    <tr>\n",
       "      <th>0</th>\n",
       "      <td>0.86</td>\n",
       "      <td>0.0</td>\n",
       "      <td>NaN</td>\n",
       "      <td>NaN</td>\n",
       "      <td>1</td>\n",
       "      <td>4</td>\n",
       "      <td>1</td>\n",
       "    </tr>\n",
       "    <tr>\n",
       "      <th>1</th>\n",
       "      <td>0.16</td>\n",
       "      <td>0.0</td>\n",
       "      <td>2.62</td>\n",
       "      <td>NaN</td>\n",
       "      <td>1</td>\n",
       "      <td>4</td>\n",
       "      <td>20</td>\n",
       "    </tr>\n",
       "    <tr>\n",
       "      <th>2</th>\n",
       "      <td>0.23</td>\n",
       "      <td>0.0</td>\n",
       "      <td>NaN</td>\n",
       "      <td>NaN</td>\n",
       "      <td>2</td>\n",
       "      <td>5</td>\n",
       "      <td>3</td>\n",
       "    </tr>\n",
       "    <tr>\n",
       "      <th>3</th>\n",
       "      <td>0.70</td>\n",
       "      <td>0.0</td>\n",
       "      <td>NaN</td>\n",
       "      <td>NaN</td>\n",
       "      <td>2</td>\n",
       "      <td>5</td>\n",
       "      <td>3</td>\n",
       "    </tr>\n",
       "    <tr>\n",
       "      <th>4</th>\n",
       "      <td>0.24</td>\n",
       "      <td>0.0</td>\n",
       "      <td>NaN</td>\n",
       "      <td>NaN</td>\n",
       "      <td>2</td>\n",
       "      <td>5</td>\n",
       "      <td>3</td>\n",
       "    </tr>\n",
       "  </tbody>\n",
       "</table>\n",
       "</div>"
      ],
      "text/plain": [
       "   estimated_stock_pct  quantity  temperature  unit_price  \\\n",
       "0                 0.86       0.0          NaN         NaN   \n",
       "1                 0.16       0.0         2.62         NaN   \n",
       "2                 0.23       0.0          NaN         NaN   \n",
       "3                 0.70       0.0          NaN         NaN   \n",
       "4                 0.24       0.0          NaN         NaN   \n",
       "\n",
       "   timestamp_day_of_month  timestamp_day_of_week  timestamp_hour  \n",
       "0                       1                      4               1  \n",
       "1                       1                      4              20  \n",
       "2                       2                      5               3  \n",
       "3                       2                      5               3  \n",
       "4                       2                      5               3  "
      ]
     },
     "execution_count": 97,
     "metadata": {},
     "output_type": "execute_result"
    }
   ],
   "source": [
    "merged_df.drop(columns=['product_id'], inplace=True)\n",
    "merged_df.head()"
   ]
  },
  {
   "cell_type": "code",
   "execution_count": 98,
   "metadata": {},
   "outputs": [
    {
     "name": "stdout",
     "output_type": "stream",
     "text": [
      "<class 'pandas.core.frame.DataFrame'>\n",
      "RangeIndex: 14998 entries, 0 to 14997\n",
      "Data columns (total 7 columns):\n",
      " #   Column                  Non-Null Count  Dtype  \n",
      "---  ------                  --------------  -----  \n",
      " 0   estimated_stock_pct     14998 non-null  float64\n",
      " 1   quantity                14998 non-null  float64\n",
      " 2   temperature             2661 non-null   float64\n",
      " 3   unit_price              0 non-null      float64\n",
      " 4   timestamp_day_of_month  14998 non-null  int32  \n",
      " 5   timestamp_day_of_week   14998 non-null  int32  \n",
      " 6   timestamp_hour          14998 non-null  int32  \n",
      "dtypes: float64(4), int32(3)\n",
      "memory usage: 644.6 KB\n"
     ]
    }
   ],
   "source": [
    "merged_df.info()"
   ]
  },
  {
   "cell_type": "code",
   "execution_count": null,
   "metadata": {},
   "outputs": [],
   "source": [
    "import pandas as pd\n",
    "from sklearn.ensemble import RandomForestRegressor\n",
    "from sklearn.model_selection import train_test_split\n",
    "\n",
    "merged_df = pd.DataFrame()  \n",
    "\n",
    "X = merged_df.drop(columns=['estimated_stock_pct'])\n",
    "y = merged_df['estimated_stock_pct']\n",
    "X_train, X_test, y_train, y_test = train_test_split(X, y, test_size=0.2, random_state=42)\n",
    "model = RandomForestRegressor(n_estimators=100, random_state=42)\n",
    "model.fit(X_train, y_train)\n",
    "y_pred = model.predict(X_test)\n"
   ]
  },
  {
   "cell_type": "code",
   "execution_count": null,
   "metadata": {},
   "outputs": [],
   "source": [
    "from sklearn.metrics import mean_squared_error\n",
    "\n",
    "mse = mean_squared_error(y_test, y_pred)\n",
    "rmse = np.sqrt(mse)\n",
    "print(f\"RMSE: {rmse}\")\n"
   ]
  },
  {
   "cell_type": "markdown",
   "metadata": {},
   "source": [
    "CREATE DIFF  TRAIN AND TEST"
   ]
  },
  {
   "cell_type": "code",
   "execution_count": null,
   "metadata": {},
   "outputs": [],
   "source": [
    "from sklearn.model_selection import train_test_split\n",
    "from sklearn.linear_model import LinearRegression\n",
    "\n",
    "X = merged_df.drop(columns=['estimated_stock_pct'])\n",
    "y = merged_df['estimated_stock_pct']\n",
    "\n",
    "X_train, X_test, y_train, y_test = train_test_split(X, y, test_size=0.2, random_state=42)\n",
    "\n",
    "model = LinearRegression()\n",
    "\n",
    "model.fit(X_train, y_train)\n",
    "\n",
    "y_pred = model.predict(X_test)\n",
    "\n"
   ]
  },
  {
   "cell_type": "code",
   "execution_count": null,
   "metadata": {},
   "outputs": [
    {
     "name": "stdout",
     "output_type": "stream",
     "text": [
      "RMSE: 0.3172387812323\n"
     ]
    }
   ],
   "source": [
    "\n",
    "mse = mean_squared_error(y_test, y_pred)\n",
    "rmse = np.sqrt(mse)\n",
    "print(f\"RMSE: {rmse}\")\n"
   ]
  },
  {
   "cell_type": "markdown",
   "metadata": {},
   "source": [
    "Rmse is the average difference between the predicted stock levels and the actual stock levels is approximately (put final thing here after all tests @rahul) A lower RMSE value suggests better accuracy of the model in predicting the stock levels."
   ]
  },
  {
   "cell_type": "markdown",
   "metadata": {},
   "source": [
    "Calculating the MAE "
   ]
  },
  {
   "cell_type": "code",
   "execution_count": null,
   "metadata": {},
   "outputs": [
    {
     "name": "stdout",
     "output_type": "stream",
     "text": [
      "MAE: 0.293834839223\n"
     ]
    }
   ],
   "source": [
    "from sklearn.metrics import mean_absolute_error\n",
    "\n",
    "mae = mean_absolute_error(y_test, y_pred)\n",
    "print(f\"MAE: {mae}\")\n"
   ]
  },
  {
   "cell_type": "markdown",
   "metadata": {},
   "source": [
    "\n",
    "The mean absolute error (MAE) for the given model is .(put final here @rahul) This indicates that, on average, the model's predictions deviate from the actual stock levels by approximately .(put final here @rahul)  Lower values of MAE suggest better performance, as it signifies less average deviation between the predicted and actual values.\n"
   ]
  }
 ],
 "metadata": {
  "colab": {
   "provenance": []
  },
  "kernelspec": {
   "display_name": "Python 3 (ipykernel)",
   "language": "python",
   "name": "python3"
  },
  "language_info": {
   "codemirror_mode": {
    "name": "ipython",
    "version": 3
   },
   "file_extension": ".py",
   "mimetype": "text/x-python",
   "name": "python",
   "nbconvert_exporter": "python",
   "pygments_lexer": "ipython3",
   "version": "3.11.6"
  }
 },
 "nbformat": 4,
 "nbformat_minor": 1
}
